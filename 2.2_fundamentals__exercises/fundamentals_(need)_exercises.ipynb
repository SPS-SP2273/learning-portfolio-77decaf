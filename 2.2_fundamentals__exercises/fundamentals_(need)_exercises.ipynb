{
 "cells": [
  {
   "attachments": {},
   "cell_type": "markdown",
   "id": "123456",
   "metadata": {},
   "source": [
    "<div style=\"text-align:left;font-size:2em\"><span style=\"font-weight:bolder;font-size:1.25em\">SP2273 | Learning Portfolio</span><br><br><span style=\"font-weight:bold;color:darkred\">Fundamentals (Need) Exercises</span></div>"
   ]
  },
  {
   "cell_type": "markdown",
   "id": "271e0e9e-3904-4ea4-86a3-be6a2363b70b",
   "metadata": {},
   "source": [
    "# 1: Recall\n",
    "print()  \n",
    "if:  \n",
    "elif:  \n",
    "else:  \n",
    "[1,2]  \n",
    "{1,2,...}  \n",
    "*'...'.split()*  \n",
    "*x.upper()*  \n",
    "in, not in, and, or  \n",
    "*type()*  \n",
    "int()  \n",
    "float()  \n",
    "*complex()*  \n",
    "str()  \n",
    "*abs()*  \n",
    "f'text {function}':  \n",
    "    *< (left), > (right), ^ (centre)* \n",
    "\n",
    "    *f (float), d (integer), s (string), g (python figures out)*  "
   ]
  },
  {
   "cell_type": "markdown",
   "id": "34cdda06",
   "metadata": {},
   "source": [
    "# 2: A Pythagorean Triple"
   ]
  },
  {
   "cell_type": "code",
   "execution_count": 8,
   "id": "c8f515e4-6e10-47d6-a7b3-5efd3115265d",
   "metadata": {},
   "outputs": [
    {
     "name": "stdout",
     "output_type": "stream",
     "text": [
      "3 4 5.0\n"
     ]
    }
   ],
   "source": [
    "import math\n",
    "x, y = 3, 4\n",
    "z = math.sqrt(x**2 + y**2)\n",
    "print(x, y, z)"
   ]
  },
  {
   "cell_type": "markdown",
   "id": "588d8491-0dfe-4824-af4c-caf61603c041",
   "metadata": {},
   "source": [
    "# 3: Questions\n",
    "|  # | Term         | Description                                                                                                        |\n",
    "|:--:|--------------|--------------------------------------------------------------------------------------------------------------------|\n",
    "| 1  | Function     | A special command, indicated by a set line of code, that performs a transformation on its target.                  |\n",
    "| 2  | Arguments    | Actual values, that users specify, used as target of a function.                                                   |\n",
    "| 3  | Comments     | Lines in human language that serve no function to python but are used in organisation and presentation to readers. |\n",
    "| 4  | Indentations | The number of indentations indicates belonging to a subset of lines of code.                                       |\n",
    "| 5  | Packages     | A group of non-native python commands that can be accessed and reused.                                             |\n",
    "| 6  | .            | Indicates ownership or subject of the function to the right of it.                                                 |\n",
    "| 7  | :            | Separates conditionals and the related action into distinct blocks of code.                                        |\n",
    "| 8  | []           | Encloses lists of items that can be stored and accessed.                                                           |\n",
    "| 9  | [[],[]]      | A list containing multiple distinct lists within it.                                                               |\n",
    "| 10 | {}           | A store of pairs of symbols and the values they represent.                                                         |"
   ]
  },
  {
   "cell_type": "markdown",
   "id": "f8b7e8f4",
   "metadata": {},
   "source": [
    "# 4: Division Operators"
   ]
  },
  {
   "cell_type": "code",
   "execution_count": null,
   "id": "65fd2839-dbcc-42f0-9c37-e9175be72686",
   "metadata": {},
   "outputs": [
    {
     "name": "stdout",
     "output_type": "stream",
     "text": [
      "2.5\n",
      "4\n",
      "1\n"
     ]
    }
   ],
   "source": [
    "5/2           # Returns float value of division.\n",
    "5//2          # Returns integer after division by truncating decimal points; rounds down to nearest integer.\n",
    "5%2           # Returns remainder of division."
   ]
  }
 ],
 "metadata": {
  "kernelspec": {
   "display_name": "Python 3 (ipykernel)",
   "language": "python",
   "name": "python3"
  },
  "language_info": {
   "codemirror_mode": {
    "name": "ipython",
    "version": 3
   },
   "file_extension": ".py",
   "mimetype": "text/x-python",
   "name": "python",
   "nbconvert_exporter": "python",
   "pygments_lexer": "ipython3",
   "version": "3.13.5"
  },
  "toc": {
   "base_numbering": 1,
   "nav_menu": {},
   "number_sections": true,
   "sideBar": true,
   "skip_h1_title": false,
   "title_cell": "Table of Contents",
   "title_sidebar": "Contents",
   "toc_cell": false,
   "toc_position": {},
   "toc_section_display": true,
   "toc_window_display": false
  },
  "vscode": {
   "interpreter": {
    "hash": "31f2aee4e71d21fbe5cf8b01ff0e069b9275f58929596ceb00d14d90e3e16cd6"
   }
  }
 },
 "nbformat": 4,
 "nbformat_minor": 5
}

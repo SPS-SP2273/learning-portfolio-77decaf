{
 "cells": [
  {
   "attachments": {},
   "cell_type": "markdown",
   "id": "123456",
   "metadata": {},
   "source": [
    "<div style=\"text-align:left;font-size:2em\"><span style=\"font-weight:bolder;font-size:1.25em\">SP2273 | Learning Portfolio</span><br><br><span style=\"font-weight:bold;color:darkred\">Fundamentals (Good) Exercises</span></div>"
   ]
  },
  {
   "cell_type": "markdown",
   "id": "18e055df-6704-4ec2-af0b-c0b02ff744fd",
   "metadata": {},
   "source": [
    "# 1: Information"
   ]
  },
  {
   "cell_type": "code",
   "execution_count": null,
   "id": "f2e711a7-158d-455b-83d7-b416b43f653c",
   "metadata": {},
   "outputs": [],
   "source": [
    "name_input = input('What is your name?')\n",
    "\n",
    "if name_input in ['Joey','joey']: \n",
    "    print('fuuurget about it...') \n",
    "    # :)\n",
    "else: print(f'How you doin {name_input}!')\n"
   ]
  },
  {
   "cell_type": "code",
   "execution_count": null,
   "id": "9103ff7b-65d9-43c9-bc5f-8ef84eee49af",
   "metadata": {},
   "outputs": [],
   "source": [
    "name_inp = input('Your name?')\n",
    "age_inp = input('Your age?')\n",
    "print(f'My name is {name_inp} and I am {age_inp} years old.')"
   ]
  },
  {
   "cell_type": "code",
   "execution_count": null,
   "id": "564eae32-130e-4df1-bf3c-98996737cde2",
   "metadata": {},
   "outputs": [],
   "source": [
    "pi = 3.141592653589793\n",
    "\n",
    "print(f'The value of pi to 2 decimal places is: {pi:.2f}')\n",
    "print(f'The value of pi to 3 decimal places is: {pi:.3f}')\n",
    "print(f'The value of pi to 4 decimal places is: {pi:.4f}')"
   ]
  },
  {
   "cell_type": "code",
   "execution_count": null,
   "id": "6e8c93b3-375f-41b3-af24-def9c5947a12",
   "metadata": {},
   "outputs": [],
   "source": [
    "print(f'{'Apple':<10} ${0.99:>5}\\n{'Banana':<10} ${0.59:>5}\\n{'Orange':<10} ${1.29:>5}')"
   ]
  },
  {
   "cell_type": "markdown",
   "id": "26128ded-fecc-4d3c-91d0-32cc2cf66560",
   "metadata": {},
   "source": [
    "# 2: Scores"
   ]
  },
  {
   "cell_type": "code",
   "execution_count": 3,
   "id": "a79acb1d-22b5-4658-baad-ac167d596597",
   "metadata": {},
   "outputs": [
    {
     "name": "stdout",
     "output_type": "stream",
     "text": [
      "Please input a number.\n"
     ]
    }
   ],
   "source": [
    "score_inp = input('Enter score:')\n",
    "\n",
    "try: \n",
    "    S = float(score_inp)\n",
    "    \n",
    "    if S > 100 or S < 0:\n",
    "        print('Please enter a valid score.')\n",
    "        # Reject answers outside limit of 0-100\n",
    "    elif 70 <= S:\n",
    "        print('A')\n",
    "        # Shows grade of A for any score within 70-100\n",
    "    elif 50 <= S:\n",
    "        print('B')\n",
    "        # Shows grade of B for any score within 50-69\n",
    "    elif 35 <= S:\n",
    "        print('C')\n",
    "        # Shows grade of C for any score within 35-49\n",
    "    else:\n",
    "        print('Fail')\n",
    "        # Shows grade of Fail for any score within 0-34\n",
    "except ValueError: print('Please input a number.')\n",
    "# Rejects inputs that are in text."
   ]
  },
  {
   "cell_type": "markdown",
   "id": "faf5848b-9c52-470a-9611-7df9e7e9e1d0",
   "metadata": {},
   "source": [
    "# 3: Factorials"
   ]
  },
  {
   "cell_type": "code",
   "execution_count": 70,
   "id": "695e3293-1c1c-4b4f-945b-58b072fa95a2",
   "metadata": {},
   "outputs": [
    {
     "name": "stdout",
     "output_type": "stream",
     "text": [
      "120\n",
      "Invalid input\n"
     ]
    }
   ],
   "source": [
    "def factorial(n):\n",
    "    if n < 0:\n",
    "        return \"Invalid input\"\n",
    "        # rejects negative values of n\n",
    "    elif n == 0:\n",
    "        return 1\n",
    "        # 0! = 1\n",
    "    else:\n",
    "        result = 1\n",
    "        for number in range(1, n+1):\n",
    "            result *= number\n",
    "            # prodcut of all values from n to 1\n",
    "        return result\n",
    "\n",
    "\n",
    "print(factorial(5))   # Testing, expected output: 120\n",
    "print(factorial(-1))  # Testing, expected output: Invalid input"
   ]
  }
 ],
 "metadata": {
  "kernelspec": {
   "display_name": "base",
   "language": "python",
   "name": "python3"
  },
  "language_info": {
   "codemirror_mode": {
    "name": "ipython",
    "version": 3
   },
   "file_extension": ".py",
   "mimetype": "text/x-python",
   "name": "python",
   "nbconvert_exporter": "python",
   "pygments_lexer": "ipython3",
   "version": "3.13.5"
  },
  "toc": {
   "base_numbering": 1,
   "nav_menu": {},
   "number_sections": true,
   "sideBar": true,
   "skip_h1_title": false,
   "title_cell": "Table of Contents",
   "title_sidebar": "Contents",
   "toc_cell": false,
   "toc_position": {},
   "toc_section_display": true,
   "toc_window_display": false
  }
 },
 "nbformat": 4,
 "nbformat_minor": 5
}

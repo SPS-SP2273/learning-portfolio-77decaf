{
 "cells": [
  {
   "attachments": {},
   "cell_type": "markdown",
   "id": "123456",
   "metadata": {},
   "source": [
    "<div style=\"text-align:left;font-size:2em\"><span style=\"font-weight:bolder;font-size:1.25em\">SP2273 | Learning Portfolio</span><br><br><span style=\"font-weight:bold;color:darkred\">Using Jupyter (Good), Exercises</span></div>"
   ]
  },
  {
   "cell_type": "markdown",
   "id": "4b8024a6-fd58-428d-a77d-d4a5d83306ac",
   "metadata": {},
   "source": [
    "# 1: Learning to interrupt\n",
    "\n",
    "In VSCode, clicking the square icon (\"Stop Cell Excecution\") terminates the process."
   ]
  },
  {
   "cell_type": "markdown",
   "id": "185da5f4-de94-4eb9-9f63-b8931ac6246f",
   "metadata": {},
   "source": [
    "# 2: Resetting & Restarting the Kernal\n",
    "\n",
    "In VSCode, clicking the button at the top labelled \"Restart\" will reset the kernel."
   ]
  },
  {
   "cell_type": "code",
   "execution_count": 9,
   "id": "29447ac1-fd86-4729-9639-b861d14a359e",
   "metadata": {},
   "outputs": [
    {
     "name": "stdout",
     "output_type": "stream",
     "text": [
      "533 ns ± 6.26 ns per loop (mean ± std. dev. of 7 runs, 1,000,000 loops each)\n"
     ]
    }
   ],
   "source": [
    "%%timeit\n",
    "squares = [i**2 for i in range(10)]"
   ]
  },
  {
   "cell_type": "code",
   "execution_count": 3,
   "id": "d7177810-1fb7-48bc-9a16-82776badb03a",
   "metadata": {},
   "outputs": [
    {
     "name": "stdout",
     "output_type": "stream",
     "text": [
      "646 ns ± 11.9 ns per loop (mean ± std. dev. of 7 runs, 1,000,000 loops each)\n"
     ]
    }
   ],
   "source": [
    "%%timeit\n",
    "squares = list()\n",
    "for i in range(10):\n",
    "    squares.append(i**2)"
   ]
  },
  {
   "attachments": {},
   "cell_type": "markdown",
   "id": "5125a68e",
   "metadata": {},
   "source": [
    "## Footnotes"
   ]
  }
 ],
 "metadata": {
  "kernelspec": {
   "display_name": "base",
   "language": "python",
   "name": "python3"
  },
  "language_info": {
   "codemirror_mode": {
    "name": "ipython",
    "version": 3
   },
   "file_extension": ".py",
   "mimetype": "text/x-python",
   "name": "python",
   "nbconvert_exporter": "python",
   "pygments_lexer": "ipython3",
   "version": "3.13.5"
  },
  "toc": {
   "base_numbering": 1,
   "nav_menu": {},
   "number_sections": true,
   "sideBar": true,
   "skip_h1_title": false,
   "title_cell": "Table of Contents",
   "title_sidebar": "Contents",
   "toc_cell": false,
   "toc_position": {},
   "toc_section_display": true,
   "toc_window_display": false
  }
 },
 "nbformat": 4,
 "nbformat_minor": 5
}

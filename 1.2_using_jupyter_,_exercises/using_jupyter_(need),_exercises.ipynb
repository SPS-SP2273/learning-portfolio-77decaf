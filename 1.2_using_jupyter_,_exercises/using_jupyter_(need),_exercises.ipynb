{
 "cells": [
  {
   "attachments": {},
   "cell_type": "markdown",
   "id": "123456",
   "metadata": {},
   "source": [
    "<div style=\"text-align:left;font-size:2em\"><span style=\"font-weight:bolder;font-size:1.25em\">SP2273 | Learning Portfolio</span><br><br><span style=\"font-weight:bold;color:darkred\">Using Jupyter (Need), Exercises</span></div>"
   ]
  },
  {
   "attachments": {},
   "cell_type": "markdown",
   "id": "86cb487c",
   "metadata": {},
   "source": [
    "# 1 Quadratic Equations\n",
    "## Introduction \n",
    "![](https://upload.wikimedia.org/wikipedia/commons/thumb/f/f8/Polynomialdeg2.svg/300px-Polynomialdeg2.svg.png) \n",
    "\n",
    "(*Image from the* [*Wikipedia page on Quadratic equations*](https://en.wikipedia.org/wiki/Quadratic_equation)) \n",
    "\n",
    "The general form of a quadratic equation is:\n",
    "$$ax^2+bx+c=0$$\n",
    "\n",
    "## Solutions\n",
    "Provided $a\\neq0$, we can use an elementary algebraic method called [completing the square](https://en.wikipedia.org/wiki/Completing_the_square) to show that a quadratic equation has the following solution: $$ x=\\dfrac{ -b\\pm\\sqrt{b^2-4ac} } { 2a } $$ \n",
    "## Discriminant \n",
    "The quantity $\\Delta = b^2-4ac$ is called the **discriminant** of the equation and decides the nature of its solutions. The table below shows the various possibilities. \n",
    "\n",
    "|    Discriminant    | Roots                                |\n",
    "|:------------------:|--------------------------------------|\n",
    "| $\\Delta=b^2-4ac=0$ | A single solution of $-b/(2a)$       |\n",
    "| $\\Delta=b^2-4ac>0$ | Two distinct solutions.              |\n",
    "| $\\Delta=b^2-4ac<0$ | No real solutions; both are complex. |"
   ]
  },
  {
   "cell_type": "markdown",
   "id": "f9bb4a50-dd1e-492a-82d9-b05303471f99",
   "metadata": {},
   "source": [
    "# 2: Questions & Answers\n",
    "1. A git repository stores online a group of files or code, along with the changes made to them over a course of time.\n",
    "2. Git keeps track of changes in the files in our repository.\n",
    "3. A commit saves all changes made on selected local files to Git Desktop.\n",
    "4. A push uploads all commits to github online.\n",
    "5. A pull downloads changes to files from github online to the local machine.\n",
    "6. GitHub is a online server where repositories can be shared where GitHub Desktop just a local interface for users to interact with Git respositories."
   ]
  },
  {
   "cell_type": "markdown",
   "id": "c168ec5b-ae93-4f04-ad97-0426b545ab37",
   "metadata": {},
   "source": [
    "# 3: Statistics\n",
    "$$ \\mu = \\dfrac{1}{n} \\sum^{n}_{i=1}x_i $$\n",
    "$$ \\sigma = \\sqrt{\n",
    "    \\dfrac{1}{n} \\sum^{n}_{i=1}(x_i-\\mu)^2 \n",
    "} $$\n",
    "$$ r = \\dfrac{\n",
    "    \\sum^{n}_{i=1}(x_i-\\mu_X)(y_i-\\mu_Y)\n",
    "} \n",
    "{\\sqrt{\n",
    "    \\sum^{n}_{i=1}(x_i-\\mu_X)^2 \\sum^{n}_{i=1}(y_i-\\mu_Y)^2\n",
    "    }\n",
    "}\n",
    "$$"
   ]
  }
 ],
 "metadata": {
  "kernelspec": {
   "display_name": "Python 3 (ipykernel)",
   "language": "python",
   "name": "python3"
  },
  "language_info": {
   "codemirror_mode": {
    "name": "ipython",
    "version": 3
   },
   "file_extension": ".py",
   "mimetype": "text/x-python",
   "name": "python",
   "nbconvert_exporter": "python",
   "pygments_lexer": "ipython3",
   "version": "3.13.5"
  },
  "toc": {
   "base_numbering": 1,
   "nav_menu": {},
   "number_sections": true,
   "sideBar": true,
   "skip_h1_title": false,
   "title_cell": "Table of Contents",
   "title_sidebar": "Contents",
   "toc_cell": false,
   "toc_position": {},
   "toc_section_display": true,
   "toc_window_display": false
  },
  "vscode": {
   "interpreter": {
    "hash": "31f2aee4e71d21fbe5cf8b01ff0e069b9275f58929596ceb00d14d90e3e16cd6"
   }
  }
 },
 "nbformat": 4,
 "nbformat_minor": 5
}
